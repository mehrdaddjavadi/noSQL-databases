{
 "cells": [
  {
   "cell_type": "code",
   "execution_count": null,
   "id": "f5d7df42",
   "metadata": {},
   "outputs": [],
   "source": [
    "!pip install cassandra-driver"
   ]
  },
  {
   "cell_type": "code",
   "execution_count": null,
   "id": "cf2f599c",
   "metadata": {},
   "outputs": [],
   "source": [
    "import cassandra"
   ]
  },
  {
   "cell_type": "code",
   "execution_count": null,
   "id": "cc8ad775",
   "metadata": {},
   "outputs": [],
   "source": [
    "from cassandra.cluster import Cluster\n",
    "try:\n",
    "    cluster = Cluster(['127.0.0.1'])\n",
    "    session = cluster.connect()\n",
    "except Exception as e:\n",
    "    print(e)"
   ]
  },
  {
   "cell_type": "code",
   "execution_count": null,
   "id": "2e5f373a",
   "metadata": {},
   "outputs": [],
   "source": [
    "try:\n",
    "    session.execute(\"select * from music_library\")\n",
    "except Exception as e:\n",
    "    print(e)\n",
    "# we still doesn't have any keyspace"
   ]
  },
  {
   "cell_type": "code",
   "execution_count": null,
   "id": "f6b5e0c3",
   "metadata": {},
   "outputs": [],
   "source": [
    "try:\n",
    "    session.execute(\"\"\"\n",
    "    \n",
    "    CREATE KEYSPACE IF NOT EXISTS mehrdad\n",
    "    WITH REPLICATION = {\n",
    "    'class' : 'SimpleStrategy', 'replication_factor':1\n",
    "    }\n",
    "    \n",
    "    \"\"\")\n",
    "except Exception as e:\n",
    "    print(e)"
   ]
  },
  {
   "cell_type": "code",
   "execution_count": null,
   "id": "0497953d",
   "metadata": {},
   "outputs": [],
   "source": [
    "try:\n",
    "    session.set_keyspace('mehrdad')\n",
    "except Exception as e:\n",
    "    print(e)"
   ]
  },
  {
   "cell_type": "code",
   "execution_count": null,
   "id": "fff21a5b",
   "metadata": {},
   "outputs": [],
   "source": [
    "query =\"CREATE TABLE IF NOT EXISTS musice_library\"\n",
    "query = query + \"(year int, artist_name text, album_name text, PRIMARY KEY(year, artist_name))\"\n",
    "try:\n",
    "    session.execute(query)\n",
    "except Exception as e:\n",
    "    print(e)"
   ]
  },
  {
   "cell_type": "code",
   "execution_count": null,
   "id": "3bb92264",
   "metadata": {},
   "outputs": [],
   "source": [
    "query = \" select count(*) from music_library\"\n",
    "try:\n",
    "    count = session.execute(query)\n",
    "except Exception as e:\n",
    "    print(e)\n",
    "print(count.one())"
   ]
  },
  {
   "cell_type": "code",
   "execution_count": null,
   "id": "dfb66ada",
   "metadata": {},
   "outputs": [],
   "source": [
    "query = \"INSERT INTO music_library (year, artist_name, album_name)\"\n",
    "query = query + 'VALUES (%S, %S, %S)'\n",
    "\n",
    "try:\n",
    "    session.execute(query, (2023, \"rastak\", \"ye chizi\"))\n",
    "except Exception as e:\n",
    "    print(e)\n",
    "\n",
    "try:\n",
    "    session.execute(query, (2022, \"red eyes\", \"ye chizi\"))\n",
    "except Exception as e:\n",
    "    print(e)"
   ]
  },
  {
   "cell_type": "code",
   "execution_count": null,
   "id": "8ce82e32",
   "metadata": {},
   "outputs": [],
   "source": [
    "try:\n",
    "    rows = session.execute(\"SELECT * FROM music_library\")\n",
    "except EXCEPTION as e:\n",
    "    print(e)\n",
    "for row in rows:\n",
    "    print(row.year, row.albume_name, row.artist_name)"
   ]
  },
  {
   "cell_type": "code",
   "execution_count": null,
   "id": "f9b42594",
   "metadata": {},
   "outputs": [],
   "source": [
    "query = \" select * from music_library WHERE YEAR=2022\"\n",
    "rows=session.execute(query)\n",
    "for row in rows:\n",
    "    print(row.year, row. albume_name, row.artist_name)"
   ]
  },
  {
   "cell_type": "code",
   "execution_count": null,
   "id": "aa36e7e5",
   "metadata": {},
   "outputs": [],
   "source": [
    "query = \"drop table music_libray\"\n",
    "rows = session.execute(query)"
   ]
  },
  {
   "cell_type": "code",
   "execution_count": null,
   "id": "cfde592f",
   "metadata": {},
   "outputs": [],
   "source": [
    "session.shutdown()\n",
    "cluster.shutdown()"
   ]
  },
  {
   "cell_type": "code",
   "execution_count": null,
   "id": "3eb231ef",
   "metadata": {},
   "outputs": [],
   "source": []
  },
  {
   "cell_type": "code",
   "execution_count": null,
   "id": "90d94ca8",
   "metadata": {},
   "outputs": [],
   "source": []
  },
  {
   "cell_type": "code",
   "execution_count": null,
   "id": "34e9f406",
   "metadata": {},
   "outputs": [],
   "source": []
  }
 ],
 "metadata": {
  "kernelspec": {
   "display_name": "Python 3 (ipykernel)",
   "language": "python",
   "name": "python3"
  },
  "language_info": {
   "codemirror_mode": {
    "name": "ipython",
    "version": 3
   },
   "file_extension": ".py",
   "mimetype": "text/x-python",
   "name": "python",
   "nbconvert_exporter": "python",
   "pygments_lexer": "ipython3",
   "version": "3.9.13"
  }
 },
 "nbformat": 4,
 "nbformat_minor": 5
}
